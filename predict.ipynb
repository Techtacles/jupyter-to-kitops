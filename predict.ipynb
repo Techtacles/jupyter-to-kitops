{
 "cells": [
  {
   "cell_type": "code",
   "execution_count": 1,
   "metadata": {},
   "outputs": [
    {
     "name": "stdout",
     "output_type": "stream",
     "text": [
      "Satisfied\n"
     ]
    }
   ],
   "source": [
    "import joblib\n",
    "model = joblib.load(\"models/scikit_class_model_v2.joblib\")\n",
    "prediction = model.predict([[ 0.        ,  0.        ,  1.08333333,  0.        , -0.39169811,\n",
    "        1.        , -0.5       , -0.5       , -0.5       , -0.5       ,\n",
    "        0.5       , -1.        ,  0.5       ,  0.5       ,  0.5       ,\n",
    "        0.5       , -1.        ,  0.5       ,  0.        ,  0.        ,\n",
    "        0.        ,  0.        ]])\n",
    "if prediction[0] == 1:\n",
    "    print(\"Satisfied\")\n",
    "else:\n",
    "    print(\"Dissatisfied\")\n"
   ]
  }
 ],
 "metadata": {
  "kernelspec": {
   "display_name": "base",
   "language": "python",
   "name": "python3"
  },
  "language_info": {
   "codemirror_mode": {
    "name": "ipython",
    "version": 3
   },
   "file_extension": ".py",
   "mimetype": "text/x-python",
   "name": "python",
   "nbconvert_exporter": "python",
   "pygments_lexer": "ipython3",
   "version": "3.9.12"
  }
 },
 "nbformat": 4,
 "nbformat_minor": 2
}
