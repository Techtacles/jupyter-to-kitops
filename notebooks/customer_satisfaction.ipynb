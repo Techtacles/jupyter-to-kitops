{
 "cells": [
  {
   "cell_type": "markdown",
   "id": "25038219",
   "metadata": {},
   "source": [
    "# Importing modules"
   ]
  },
  {
   "cell_type": "code",
   "execution_count": 1,
   "id": "2bebeca1",
   "metadata": {},
   "outputs": [
    {
     "name": "stdout",
     "output_type": "stream",
     "text": [
      "Requirement already satisfied: autogluon in /opt/anaconda3/lib/python3.9/site-packages (1.1.1)\n",
      "Requirement already satisfied: autogluon.tabular[all]==1.1.1 in /opt/anaconda3/lib/python3.9/site-packages (from autogluon) (1.1.1)\n",
      "Requirement already satisfied: autogluon.multimodal==1.1.1 in /opt/anaconda3/lib/python3.9/site-packages (from autogluon) (1.1.1)\n",
      "Requirement already satisfied: autogluon.timeseries[all]==1.1.1 in /opt/anaconda3/lib/python3.9/site-packages (from autogluon) (1.1.1)\n",
      "Requirement already satisfied: autogluon.core[all]==1.1.1 in /opt/anaconda3/lib/python3.9/site-packages (from autogluon) (1.1.1)\n",
      "Requirement already satisfied: autogluon.features==1.1.1 in /opt/anaconda3/lib/python3.9/site-packages (from autogluon) (1.1.1)\n",
      "Requirement already satisfied: numpy<1.29,>=1.21 in /opt/anaconda3/lib/python3.9/site-packages (from autogluon.core[all]==1.1.1->autogluon) (1.21.6)\n",
      "Requirement already satisfied: scipy<1.13,>=1.5.4 in /opt/anaconda3/lib/python3.9/site-packages (from autogluon.core[all]==1.1.1->autogluon) (1.7.3)\n",
      "Requirement already satisfied: requests in /opt/anaconda3/lib/python3.9/site-packages (from autogluon.core[all]==1.1.1->autogluon) (2.32.3)\n",
      "Requirement already satisfied: autogluon.common==1.1.1 in /opt/anaconda3/lib/python3.9/site-packages (from autogluon.core[all]==1.1.1->autogluon) (1.1.1)\n",
      "Requirement already satisfied: pandas<2.3.0,>=2.0.0 in /opt/anaconda3/lib/python3.9/site-packages (from autogluon.core[all]==1.1.1->autogluon) (2.0.3)\n",
      "Requirement already satisfied: scikit-learn<1.4.1,>=1.3.0 in /opt/anaconda3/lib/python3.9/site-packages (from autogluon.core[all]==1.1.1->autogluon) (1.4.0)\n",
      "Requirement already satisfied: matplotlib in /opt/anaconda3/lib/python3.9/site-packages (from autogluon.core[all]==1.1.1->autogluon) (3.5.1)\n",
      "Requirement already satisfied: tqdm<5,>=4.38 in /opt/anaconda3/lib/python3.9/site-packages (from autogluon.core[all]==1.1.1->autogluon) (4.66.4)\n",
      "Requirement already satisfied: boto3<2,>=1.10 in /opt/anaconda3/lib/python3.9/site-packages (from autogluon.core[all]==1.1.1->autogluon) (1.28.84)\n",
      "Requirement already satisfied: networkx<4,>=3.0 in /opt/anaconda3/lib/python3.9/site-packages (from autogluon.core[all]==1.1.1->autogluon) (3.2.1)\n",
      "Requirement already satisfied: hyperopt<0.2.8,>=0.2.7 in /opt/anaconda3/lib/python3.9/site-packages (from autogluon.core[all]==1.1.1->autogluon) (0.2.7)\n",
      "Requirement already satisfied: ray[default]<2.11,>=2.10.0 in /opt/anaconda3/lib/python3.9/site-packages (from autogluon.core[all]==1.1.1->autogluon) (2.10.0)\n",
      "Requirement already satisfied: psutil<6,>=5.7.3 in /opt/anaconda3/lib/python3.9/site-packages (from autogluon.common==1.1.1->autogluon.core[all]==1.1.1->autogluon) (5.9.4)\n",
      "Requirement already satisfied: setuptools in /opt/anaconda3/lib/python3.9/site-packages (from autogluon.common==1.1.1->autogluon.core[all]==1.1.1->autogluon) (65.7.0)\n",
      "Requirement already satisfied: nvidia-ml-py3==7.352.0 in /opt/anaconda3/lib/python3.9/site-packages (from autogluon.multimodal==1.1.1->autogluon) (7.352.0)\n",
      "Requirement already satisfied: evaluate<0.5.0,>=0.4.0 in /opt/anaconda3/lib/python3.9/site-packages (from autogluon.multimodal==1.1.1->autogluon) (0.4.2)\n",
      "Requirement already satisfied: Pillow<11,>=10.0.1 in /opt/anaconda3/lib/python3.9/site-packages (from autogluon.multimodal==1.1.1->autogluon) (10.4.0)\n",
      "Requirement already satisfied: nptyping<2.5.0,>=1.4.4 in /opt/anaconda3/lib/python3.9/site-packages (from autogluon.multimodal==1.1.1->autogluon) (2.4.1)\n",
      "Requirement already satisfied: omegaconf<2.3.0,>=2.1.1 in /opt/anaconda3/lib/python3.9/site-packages (from autogluon.multimodal==1.1.1->autogluon) (2.2.3)\n",
      "Requirement already satisfied: torchvision<0.19.0,>=0.16.0 in /opt/anaconda3/lib/python3.9/site-packages (from autogluon.multimodal==1.1.1->autogluon) (0.17.2)\n",
      "Requirement already satisfied: seqeval<1.3.0,>=1.2.2 in /opt/anaconda3/lib/python3.9/site-packages (from autogluon.multimodal==1.1.1->autogluon) (1.2.2)\n",
      "Requirement already satisfied: pytesseract<0.3.11,>=0.3.9 in /opt/anaconda3/lib/python3.9/site-packages (from autogluon.multimodal==1.1.1->autogluon) (0.3.10)\n",
      "Requirement already satisfied: pytorch-metric-learning<2.4,>=1.3.0 in /opt/anaconda3/lib/python3.9/site-packages (from autogluon.multimodal==1.1.1->autogluon) (2.3.0)\n",
      "Requirement already satisfied: tensorboard<3,>=2.9 in /opt/anaconda3/lib/python3.9/site-packages (from autogluon.multimodal==1.1.1->autogluon) (2.17.0)\n",
      "Requirement already satisfied: timm<0.10.0,>=0.9.5 in /opt/anaconda3/lib/python3.9/site-packages (from autogluon.multimodal==1.1.1->autogluon) (0.9.16)\n",
      "Requirement already satisfied: accelerate<0.22.0,>=0.21.0 in /opt/anaconda3/lib/python3.9/site-packages (from autogluon.multimodal==1.1.1->autogluon) (0.21.0)\n",
      "Requirement already satisfied: openmim<0.4.0,>=0.3.7 in /opt/anaconda3/lib/python3.9/site-packages (from autogluon.multimodal==1.1.1->autogluon) (0.3.9)\n",
      "Requirement already satisfied: jinja2<3.2,>=3.0.3 in /opt/anaconda3/lib/python3.9/site-packages (from autogluon.multimodal==1.1.1->autogluon) (3.1.4)\n",
      "Requirement already satisfied: torchmetrics<1.3.0,>=1.2.0 in /opt/anaconda3/lib/python3.9/site-packages (from autogluon.multimodal==1.1.1->autogluon) (1.2.1)\n",
      "Requirement already satisfied: defusedxml<0.7.2,>=0.7.1 in /opt/anaconda3/lib/python3.9/site-packages (from autogluon.multimodal==1.1.1->autogluon) (0.7.1)\n",
      "Requirement already satisfied: text-unidecode<1.4,>=1.3 in /opt/anaconda3/lib/python3.9/site-packages (from autogluon.multimodal==1.1.1->autogluon) (1.3)\n",
      "Requirement already satisfied: pdf2image<1.19,>=1.17.0 in /opt/anaconda3/lib/python3.9/site-packages (from autogluon.multimodal==1.1.1->autogluon) (1.17.0)\n",
      "Requirement already satisfied: torch<2.4,>=2.2 in /opt/anaconda3/lib/python3.9/site-packages (from autogluon.multimodal==1.1.1->autogluon) (2.2.2)\n",
      "Requirement already satisfied: jsonschema<4.22,>=4.18 in /opt/anaconda3/lib/python3.9/site-packages (from autogluon.multimodal==1.1.1->autogluon) (4.21.1)\n",
      "Requirement already satisfied: scikit-image<0.21.0,>=0.19.1 in /opt/anaconda3/lib/python3.9/site-packages (from autogluon.multimodal==1.1.1->autogluon) (0.19.2)\n",
      "Requirement already satisfied: nltk<4.0.0,>=3.4.5 in /opt/anaconda3/lib/python3.9/site-packages (from autogluon.multimodal==1.1.1->autogluon) (3.7)\n",
      "Requirement already satisfied: transformers[sentencepiece]<4.41.0,>=4.38.0 in /opt/anaconda3/lib/python3.9/site-packages (from autogluon.multimodal==1.1.1->autogluon) (4.39.3)\n",
      "Requirement already satisfied: lightning<2.4,>=2.2 in /opt/anaconda3/lib/python3.9/site-packages (from autogluon.multimodal==1.1.1->autogluon) (2.3.3)\n",
      "Requirement already satisfied: nlpaug<1.2.0,>=1.1.10 in /opt/anaconda3/lib/python3.9/site-packages (from autogluon.multimodal==1.1.1->autogluon) (1.1.11)\n",
      "Requirement already satisfied: lightgbm<4.4,>=3.3 in /opt/anaconda3/lib/python3.9/site-packages (from autogluon.tabular[all]==1.1.1->autogluon) (4.3.0)\n",
      "Requirement already satisfied: xgboost<2.1,>=1.6 in /opt/anaconda3/lib/python3.9/site-packages (from autogluon.tabular[all]==1.1.1->autogluon) (2.0.3)\n",
      "Requirement already satisfied: catboost<1.2,>=1.1 in /opt/anaconda3/lib/python3.9/site-packages (from autogluon.tabular[all]==1.1.1->autogluon) (1.1.1)\n",
      "Requirement already satisfied: fastai<2.8,>=2.3.1 in /opt/anaconda3/lib/python3.9/site-packages (from autogluon.tabular[all]==1.1.1->autogluon) (2.7.15)\n",
      "Requirement already satisfied: statsforecast<1.5,>=1.4.0 in /opt/anaconda3/lib/python3.9/site-packages (from autogluon.timeseries[all]==1.1.1->autogluon) (1.4.0)\n",
      "Requirement already satisfied: utilsforecast<0.0.11,>=0.0.10 in /opt/anaconda3/lib/python3.9/site-packages (from autogluon.timeseries[all]==1.1.1->autogluon) (0.0.10)\n",
      "Requirement already satisfied: orjson~=3.9 in /opt/anaconda3/lib/python3.9/site-packages (from autogluon.timeseries[all]==1.1.1->autogluon) (3.10.6)\n",
      "Requirement already satisfied: mlforecast<0.10.1,>=0.10.0 in /opt/anaconda3/lib/python3.9/site-packages (from autogluon.timeseries[all]==1.1.1->autogluon) (0.10.0)\n",
      "Requirement already satisfied: joblib<2,>=1.1 in /opt/anaconda3/lib/python3.9/site-packages (from autogluon.timeseries[all]==1.1.1->autogluon) (1.4.2)\n",
      "Requirement already satisfied: gluonts==0.15.1 in /opt/anaconda3/lib/python3.9/site-packages (from autogluon.timeseries[all]==1.1.1->autogluon) (0.15.1)\n",
      "Requirement already satisfied: pytorch-lightning<2.4,>=2.2 in /opt/anaconda3/lib/python3.9/site-packages (from autogluon.timeseries[all]==1.1.1->autogluon) (2.3.3)\n",
      "Requirement already satisfied: optimum[onnxruntime]<1.19,>=1.17 in /opt/anaconda3/lib/python3.9/site-packages (from autogluon.timeseries[all]==1.1.1->autogluon) (1.18.1)\n"
     ]
    },
    {
     "name": "stdout",
     "output_type": "stream",
     "text": [
      "Requirement already satisfied: typing-extensions~=4.0 in /opt/anaconda3/lib/python3.9/site-packages (from gluonts==0.15.1->autogluon.timeseries[all]==1.1.1->autogluon) (4.8.0)\n",
      "Requirement already satisfied: toolz~=0.10 in /opt/anaconda3/lib/python3.9/site-packages (from gluonts==0.15.1->autogluon.timeseries[all]==1.1.1->autogluon) (0.11.2)\n",
      "Requirement already satisfied: pydantic<3,>=1.7 in /opt/anaconda3/lib/python3.9/site-packages (from gluonts==0.15.1->autogluon.timeseries[all]==1.1.1->autogluon) (1.10.4)\n",
      "Requirement already satisfied: packaging>=20.0 in /opt/anaconda3/lib/python3.9/site-packages (from accelerate<0.22.0,>=0.21.0->autogluon.multimodal==1.1.1->autogluon) (24.1)\n",
      "Requirement already satisfied: pyyaml in /opt/anaconda3/lib/python3.9/site-packages (from accelerate<0.22.0,>=0.21.0->autogluon.multimodal==1.1.1->autogluon) (6.0)\n",
      "Requirement already satisfied: botocore<1.32.0,>=1.31.84 in /opt/anaconda3/lib/python3.9/site-packages (from boto3<2,>=1.10->autogluon.core[all]==1.1.1->autogluon) (1.31.84)\n",
      "Requirement already satisfied: jmespath<2.0.0,>=0.7.1 in /opt/anaconda3/lib/python3.9/site-packages (from boto3<2,>=1.10->autogluon.core[all]==1.1.1->autogluon) (0.10.0)\n",
      "Requirement already satisfied: s3transfer<0.8.0,>=0.7.0 in /opt/anaconda3/lib/python3.9/site-packages (from boto3<2,>=1.10->autogluon.core[all]==1.1.1->autogluon) (0.7.0)\n",
      "Requirement already satisfied: python-dateutil<3.0.0,>=2.1 in /opt/anaconda3/lib/python3.9/site-packages (from botocore<1.32.0,>=1.31.84->boto3<2,>=1.10->autogluon.core[all]==1.1.1->autogluon) (2.8.2)\n",
      "Requirement already satisfied: urllib3<1.27,>=1.25.4 in /opt/anaconda3/lib/python3.9/site-packages (from botocore<1.32.0,>=1.31.84->boto3<2,>=1.10->autogluon.core[all]==1.1.1->autogluon) (1.26.9)\n",
      "Requirement already satisfied: plotly in /opt/anaconda3/lib/python3.9/site-packages (from catboost<1.2,>=1.1->autogluon.tabular[all]==1.1.1->autogluon) (5.6.0)\n",
      "Requirement already satisfied: graphviz in /opt/anaconda3/lib/python3.9/site-packages (from catboost<1.2,>=1.1->autogluon.tabular[all]==1.1.1->autogluon) (0.20.1)\n",
      "Requirement already satisfied: six in /opt/anaconda3/lib/python3.9/site-packages (from catboost<1.2,>=1.1->autogluon.tabular[all]==1.1.1->autogluon) (1.16.0)\n",
      "Requirement already satisfied: multiprocess in /opt/anaconda3/lib/python3.9/site-packages (from evaluate<0.5.0,>=0.4.0->autogluon.multimodal==1.1.1->autogluon) (0.70.16)\n",
      "Requirement already satisfied: dill in /opt/anaconda3/lib/python3.9/site-packages (from evaluate<0.5.0,>=0.4.0->autogluon.multimodal==1.1.1->autogluon) (0.3.8)\n",
      "Requirement already satisfied: xxhash in /opt/anaconda3/lib/python3.9/site-packages (from evaluate<0.5.0,>=0.4.0->autogluon.multimodal==1.1.1->autogluon) (3.4.1)\n",
      "Requirement already satisfied: huggingface-hub>=0.7.0 in /opt/anaconda3/lib/python3.9/site-packages (from evaluate<0.5.0,>=0.4.0->autogluon.multimodal==1.1.1->autogluon) (0.23.4)\n",
      "Requirement already satisfied: fsspec[http]>=2021.05.0 in /opt/anaconda3/lib/python3.9/site-packages (from evaluate<0.5.0,>=0.4.0->autogluon.multimodal==1.1.1->autogluon) (2023.6.0)\n",
      "Requirement already satisfied: datasets>=2.0.0 in /opt/anaconda3/lib/python3.9/site-packages (from evaluate<0.5.0,>=0.4.0->autogluon.multimodal==1.1.1->autogluon) (2.20.0)\n",
      "Requirement already satisfied: aiohttp in /opt/anaconda3/lib/python3.9/site-packages (from datasets>=2.0.0->evaluate<0.5.0,>=0.4.0->autogluon.multimodal==1.1.1->autogluon) (3.8.1)\n",
      "Requirement already satisfied: pyarrow>=15.0.0 in /opt/anaconda3/lib/python3.9/site-packages (from datasets>=2.0.0->evaluate<0.5.0,>=0.4.0->autogluon.multimodal==1.1.1->autogluon) (16.1.0)\n",
      "Requirement already satisfied: filelock in /opt/anaconda3/lib/python3.9/site-packages (from datasets>=2.0.0->evaluate<0.5.0,>=0.4.0->autogluon.multimodal==1.1.1->autogluon) (3.14.0)\n",
      "Requirement already satisfied: pyarrow-hotfix in /opt/anaconda3/lib/python3.9/site-packages (from datasets>=2.0.0->evaluate<0.5.0,>=0.4.0->autogluon.multimodal==1.1.1->autogluon) (0.6)\n",
      "Requirement already satisfied: fastprogress>=0.2.4 in /opt/anaconda3/lib/python3.9/site-packages (from fastai<2.8,>=2.3.1->autogluon.tabular[all]==1.1.1->autogluon) (1.0.3)\n",
      "Requirement already satisfied: fastcore<1.6,>=1.5.29 in /opt/anaconda3/lib/python3.9/site-packages (from fastai<2.8,>=2.3.1->autogluon.tabular[all]==1.1.1->autogluon) (1.5.51)\n",
      "Requirement already satisfied: pip in /opt/anaconda3/lib/python3.9/site-packages (from fastai<2.8,>=2.3.1->autogluon.tabular[all]==1.1.1->autogluon) (21.2.4)\n",
      "Requirement already satisfied: fastdownload<2,>=0.0.5 in /opt/anaconda3/lib/python3.9/site-packages (from fastai<2.8,>=2.3.1->autogluon.tabular[all]==1.1.1->autogluon) (0.0.7)\n",
      "Requirement already satisfied: spacy<4 in /opt/anaconda3/lib/python3.9/site-packages (from fastai<2.8,>=2.3.1->autogluon.tabular[all]==1.1.1->autogluon) (3.7.5)\n",
      "Requirement already satisfied: async-timeout<5.0,>=4.0.0a3 in /opt/anaconda3/lib/python3.9/site-packages (from aiohttp->datasets>=2.0.0->evaluate<0.5.0,>=0.4.0->autogluon.multimodal==1.1.1->autogluon) (4.0.2)\n",
      "Requirement already satisfied: frozenlist>=1.1.1 in /opt/anaconda3/lib/python3.9/site-packages (from aiohttp->datasets>=2.0.0->evaluate<0.5.0,>=0.4.0->autogluon.multimodal==1.1.1->autogluon) (1.2.0)\n",
      "Requirement already satisfied: multidict<7.0,>=4.5 in /opt/anaconda3/lib/python3.9/site-packages (from aiohttp->datasets>=2.0.0->evaluate<0.5.0,>=0.4.0->autogluon.multimodal==1.1.1->autogluon) (5.2.0)\n",
      "Requirement already satisfied: charset-normalizer<3.0,>=2.0 in /opt/anaconda3/lib/python3.9/site-packages (from aiohttp->datasets>=2.0.0->evaluate<0.5.0,>=0.4.0->autogluon.multimodal==1.1.1->autogluon) (2.0.4)\n",
      "Requirement already satisfied: attrs>=17.3.0 in /opt/anaconda3/lib/python3.9/site-packages (from aiohttp->datasets>=2.0.0->evaluate<0.5.0,>=0.4.0->autogluon.multimodal==1.1.1->autogluon) (23.2.0)\n",
      "Requirement already satisfied: aiosignal>=1.1.2 in /opt/anaconda3/lib/python3.9/site-packages (from aiohttp->datasets>=2.0.0->evaluate<0.5.0,>=0.4.0->autogluon.multimodal==1.1.1->autogluon) (1.2.0)\n",
      "Requirement already satisfied: yarl<2.0,>=1.0 in /opt/anaconda3/lib/python3.9/site-packages (from aiohttp->datasets>=2.0.0->evaluate<0.5.0,>=0.4.0->autogluon.multimodal==1.1.1->autogluon) (1.6.3)\n",
      "Requirement already satisfied: py4j in /opt/anaconda3/lib/python3.9/site-packages (from hyperopt<0.2.8,>=0.2.7->autogluon.core[all]==1.1.1->autogluon) (0.10.9.5)\n",
      "Requirement already satisfied: future in /opt/anaconda3/lib/python3.9/site-packages (from hyperopt<0.2.8,>=0.2.7->autogluon.core[all]==1.1.1->autogluon) (0.18.2)\n",
      "Requirement already satisfied: cloudpickle in /opt/anaconda3/lib/python3.9/site-packages (from hyperopt<0.2.8,>=0.2.7->autogluon.core[all]==1.1.1->autogluon) (2.2.0)\n",
      "Requirement already satisfied: MarkupSafe>=2.0 in /opt/anaconda3/lib/python3.9/site-packages (from jinja2<3.2,>=3.0.3->autogluon.multimodal==1.1.1->autogluon) (2.1.5)\n",
      "Requirement already satisfied: referencing>=0.28.4 in /opt/anaconda3/lib/python3.9/site-packages (from jsonschema<4.22,>=4.18->autogluon.multimodal==1.1.1->autogluon) (0.35.1)\n",
      "Requirement already satisfied: rpds-py>=0.7.1 in /opt/anaconda3/lib/python3.9/site-packages (from jsonschema<4.22,>=4.18->autogluon.multimodal==1.1.1->autogluon) (0.19.0)\n",
      "Requirement already satisfied: jsonschema-specifications>=2023.03.6 in /opt/anaconda3/lib/python3.9/site-packages (from jsonschema<4.22,>=4.18->autogluon.multimodal==1.1.1->autogluon) (2023.12.1)\n",
      "Requirement already satisfied: lightning-utilities<2.0,>=0.10.0 in /opt/anaconda3/lib/python3.9/site-packages (from lightning<2.4,>=2.2->autogluon.multimodal==1.1.1->autogluon) (0.11.3.post0)\n",
      "Requirement already satisfied: window-ops in /opt/anaconda3/lib/python3.9/site-packages (from mlforecast<0.10.1,>=0.10.0->autogluon.timeseries[all]==1.1.1->autogluon) (0.0.15)\n",
      "Requirement already satisfied: numba in /opt/anaconda3/lib/python3.9/site-packages (from mlforecast<0.10.1,>=0.10.0->autogluon.timeseries[all]==1.1.1->autogluon) (0.55.1)\n",
      "Requirement already satisfied: gdown>=4.0.0 in /opt/anaconda3/lib/python3.9/site-packages (from nlpaug<1.2.0,>=1.1.10->autogluon.multimodal==1.1.1->autogluon) (5.2.0)\n",
      "Requirement already satisfied: beautifulsoup4 in /opt/anaconda3/lib/python3.9/site-packages (from gdown>=4.0.0->nlpaug<1.2.0,>=1.1.10->autogluon.multimodal==1.1.1->autogluon) (4.11.1)\n",
      "Requirement already satisfied: click in /opt/anaconda3/lib/python3.9/site-packages (from nltk<4.0.0,>=3.4.5->autogluon.multimodal==1.1.1->autogluon) (8.1.3)\n",
      "Requirement already satisfied: regex>=2021.8.3 in /opt/anaconda3/lib/python3.9/site-packages (from nltk<4.0.0,>=3.4.5->autogluon.multimodal==1.1.1->autogluon) (2022.3.15)\n"
     ]
    },
    {
     "name": "stdout",
     "output_type": "stream",
     "text": [
      "Requirement already satisfied: antlr4-python3-runtime==4.9.* in /opt/anaconda3/lib/python3.9/site-packages (from omegaconf<2.3.0,>=2.1.1->autogluon.multimodal==1.1.1->autogluon) (4.9.3)\n",
      "Requirement already satisfied: colorama in /opt/anaconda3/lib/python3.9/site-packages (from openmim<0.4.0,>=0.3.7->autogluon.multimodal==1.1.1->autogluon) (0.4.4)\n",
      "Requirement already satisfied: model-index in /opt/anaconda3/lib/python3.9/site-packages (from openmim<0.4.0,>=0.3.7->autogluon.multimodal==1.1.1->autogluon) (0.1.11)\n",
      "Requirement already satisfied: opendatalab in /opt/anaconda3/lib/python3.9/site-packages (from openmim<0.4.0,>=0.3.7->autogluon.multimodal==1.1.1->autogluon) (0.0.10)\n",
      "Requirement already satisfied: rich in /opt/anaconda3/lib/python3.9/site-packages (from openmim<0.4.0,>=0.3.7->autogluon.multimodal==1.1.1->autogluon) (12.5.1)\n",
      "Requirement already satisfied: tabulate in /opt/anaconda3/lib/python3.9/site-packages (from openmim<0.4.0,>=0.3.7->autogluon.multimodal==1.1.1->autogluon) (0.8.9)\n",
      "Requirement already satisfied: sympy in /opt/anaconda3/lib/python3.9/site-packages (from optimum[onnxruntime]<1.19,>=1.17->autogluon.timeseries[all]==1.1.1->autogluon) (1.10.1)\n",
      "Requirement already satisfied: coloredlogs in /opt/anaconda3/lib/python3.9/site-packages (from optimum[onnxruntime]<1.19,>=1.17->autogluon.timeseries[all]==1.1.1->autogluon) (15.0.1)\n",
      "Requirement already satisfied: onnxruntime>=1.11.0 in /opt/anaconda3/lib/python3.9/site-packages (from optimum[onnxruntime]<1.19,>=1.17->autogluon.timeseries[all]==1.1.1->autogluon) (1.16.3)\n",
      "Requirement already satisfied: onnx in /opt/anaconda3/lib/python3.9/site-packages (from optimum[onnxruntime]<1.19,>=1.17->autogluon.timeseries[all]==1.1.1->autogluon) (1.16.0)\n",
      "Requirement already satisfied: protobuf>=3.20.1 in /opt/anaconda3/lib/python3.9/site-packages (from optimum[onnxruntime]<1.19,>=1.17->autogluon.timeseries[all]==1.1.1->autogluon) (3.20.3)\n",
      "Requirement already satisfied: flatbuffers in /opt/anaconda3/lib/python3.9/site-packages (from onnxruntime>=1.11.0->optimum[onnxruntime]<1.19,>=1.17->autogluon.timeseries[all]==1.1.1->autogluon) (2.0.7)\n",
      "Requirement already satisfied: pytz>=2020.1 in /opt/anaconda3/lib/python3.9/site-packages (from pandas<2.3.0,>=2.0.0->autogluon.core[all]==1.1.1->autogluon) (2021.3)\n",
      "Requirement already satisfied: tzdata>=2022.1 in /opt/anaconda3/lib/python3.9/site-packages (from pandas<2.3.0,>=2.0.0->autogluon.core[all]==1.1.1->autogluon) (2023.3)\n",
      "Requirement already satisfied: msgpack<2.0.0,>=1.0.0 in /opt/anaconda3/lib/python3.9/site-packages (from ray[default]<2.11,>=2.10.0->autogluon.core[all]==1.1.1->autogluon) (1.0.2)\n",
      "Requirement already satisfied: tensorboardX>=1.9 in /opt/anaconda3/lib/python3.9/site-packages (from ray[default]<2.11,>=2.10.0->autogluon.core[all]==1.1.1->autogluon) (2.6.2.2)\n",
      "Requirement already satisfied: smart-open in /opt/anaconda3/lib/python3.9/site-packages (from ray[default]<2.11,>=2.10.0->autogluon.core[all]==1.1.1->autogluon) (7.0.4)\n",
      "Requirement already satisfied: grpcio>=1.32.0 in /opt/anaconda3/lib/python3.9/site-packages (from ray[default]<2.11,>=2.10.0->autogluon.core[all]==1.1.1->autogluon) (1.51.1)\n",
      "Requirement already satisfied: colorful in /opt/anaconda3/lib/python3.9/site-packages (from ray[default]<2.11,>=2.10.0->autogluon.core[all]==1.1.1->autogluon) (0.5.6)\n",
      "Requirement already satisfied: opencensus in /opt/anaconda3/lib/python3.9/site-packages (from ray[default]<2.11,>=2.10.0->autogluon.core[all]==1.1.1->autogluon) (0.11.4)\n",
      "Requirement already satisfied: virtualenv!=20.21.1,>=20.0.24 in /opt/anaconda3/lib/python3.9/site-packages (from ray[default]<2.11,>=2.10.0->autogluon.core[all]==1.1.1->autogluon) (20.26.1)\n",
      "Requirement already satisfied: aiohttp-cors in /opt/anaconda3/lib/python3.9/site-packages (from ray[default]<2.11,>=2.10.0->autogluon.core[all]==1.1.1->autogluon) (0.7.0)\n",
      "Requirement already satisfied: prometheus-client>=0.7.1 in /opt/anaconda3/lib/python3.9/site-packages (from ray[default]<2.11,>=2.10.0->autogluon.core[all]==1.1.1->autogluon) (0.13.1)\n",
      "Requirement already satisfied: py-spy>=0.2.0 in /opt/anaconda3/lib/python3.9/site-packages (from ray[default]<2.11,>=2.10.0->autogluon.core[all]==1.1.1->autogluon) (0.3.14)\n",
      "Requirement already satisfied: certifi>=2017.4.17 in /opt/anaconda3/lib/python3.9/site-packages (from requests->autogluon.core[all]==1.1.1->autogluon) (2021.10.8)\n",
      "Requirement already satisfied: idna<4,>=2.5 in /opt/anaconda3/lib/python3.9/site-packages (from requests->autogluon.core[all]==1.1.1->autogluon) (3.3)\n",
      "Requirement already satisfied: imageio>=2.4.1 in /opt/anaconda3/lib/python3.9/site-packages (from scikit-image<0.21.0,>=0.19.1->autogluon.multimodal==1.1.1->autogluon) (2.9.0)\n",
      "Requirement already satisfied: tifffile>=2019.7.26 in /opt/anaconda3/lib/python3.9/site-packages (from scikit-image<0.21.0,>=0.19.1->autogluon.multimodal==1.1.1->autogluon) (2021.7.2)\n",
      "Requirement already satisfied: PyWavelets>=1.1.1 in /opt/anaconda3/lib/python3.9/site-packages (from scikit-image<0.21.0,>=0.19.1->autogluon.multimodal==1.1.1->autogluon) (1.3.0)\n",
      "Requirement already satisfied: threadpoolctl>=2.0.0 in /opt/anaconda3/lib/python3.9/site-packages (from scikit-learn<1.4.1,>=1.3.0->autogluon.core[all]==1.1.1->autogluon) (2.2.0)\n",
      "Requirement already satisfied: srsly<3.0.0,>=2.4.3 in /opt/anaconda3/lib/python3.9/site-packages (from spacy<4->fastai<2.8,>=2.3.1->autogluon.tabular[all]==1.1.1->autogluon) (2.4.8)\n",
      "Requirement already satisfied: preshed<3.1.0,>=3.0.2 in /opt/anaconda3/lib/python3.9/site-packages (from spacy<4->fastai<2.8,>=2.3.1->autogluon.tabular[all]==1.1.1->autogluon) (3.0.9)\n",
      "Requirement already satisfied: thinc<8.3.0,>=8.2.2 in /opt/anaconda3/lib/python3.9/site-packages (from spacy<4->fastai<2.8,>=2.3.1->autogluon.tabular[all]==1.1.1->autogluon) (8.2.5)\n",
      "Requirement already satisfied: wasabi<1.2.0,>=0.9.1 in /opt/anaconda3/lib/python3.9/site-packages (from spacy<4->fastai<2.8,>=2.3.1->autogluon.tabular[all]==1.1.1->autogluon) (1.1.3)\n",
      "Requirement already satisfied: cymem<2.1.0,>=2.0.2 in /opt/anaconda3/lib/python3.9/site-packages (from spacy<4->fastai<2.8,>=2.3.1->autogluon.tabular[all]==1.1.1->autogluon) (2.0.8)\n",
      "Requirement already satisfied: weasel<0.5.0,>=0.1.0 in /opt/anaconda3/lib/python3.9/site-packages (from spacy<4->fastai<2.8,>=2.3.1->autogluon.tabular[all]==1.1.1->autogluon) (0.4.1)\n",
      "Requirement already satisfied: murmurhash<1.1.0,>=0.28.0 in /opt/anaconda3/lib/python3.9/site-packages (from spacy<4->fastai<2.8,>=2.3.1->autogluon.tabular[all]==1.1.1->autogluon) (1.0.10)\n",
      "Requirement already satisfied: langcodes<4.0.0,>=3.2.0 in /opt/anaconda3/lib/python3.9/site-packages (from spacy<4->fastai<2.8,>=2.3.1->autogluon.tabular[all]==1.1.1->autogluon) (3.4.0)\n",
      "Requirement already satisfied: spacy-loggers<2.0.0,>=1.0.0 in /opt/anaconda3/lib/python3.9/site-packages (from spacy<4->fastai<2.8,>=2.3.1->autogluon.tabular[all]==1.1.1->autogluon) (1.0.5)\n",
      "Requirement already satisfied: spacy-legacy<3.1.0,>=3.0.11 in /opt/anaconda3/lib/python3.9/site-packages (from spacy<4->fastai<2.8,>=2.3.1->autogluon.tabular[all]==1.1.1->autogluon) (3.0.12)\n",
      "Requirement already satisfied: typer<1.0.0,>=0.3.0 in /opt/anaconda3/lib/python3.9/site-packages (from spacy<4->fastai<2.8,>=2.3.1->autogluon.tabular[all]==1.1.1->autogluon) (0.12.3)\n",
      "Requirement already satisfied: catalogue<2.1.0,>=2.0.6 in /opt/anaconda3/lib/python3.9/site-packages (from spacy<4->fastai<2.8,>=2.3.1->autogluon.tabular[all]==1.1.1->autogluon) (2.0.10)\n",
      "Requirement already satisfied: language-data>=1.2 in /opt/anaconda3/lib/python3.9/site-packages (from langcodes<4.0.0,>=3.2.0->spacy<4->fastai<2.8,>=2.3.1->autogluon.tabular[all]==1.1.1->autogluon) (1.2.0)\n",
      "Requirement already satisfied: marisa-trie>=0.7.7 in /opt/anaconda3/lib/python3.9/site-packages (from language-data>=1.2->langcodes<4.0.0,>=3.2.0->spacy<4->fastai<2.8,>=2.3.1->autogluon.tabular[all]==1.1.1->autogluon) (1.2.0)\n",
      "Requirement already satisfied: statsmodels>=0.13.2 in /opt/anaconda3/lib/python3.9/site-packages (from statsforecast<1.5,>=1.4.0->autogluon.timeseries[all]==1.1.1->autogluon) (0.13.2)\n",
      "Requirement already satisfied: llvmlite<0.39,>=0.38.0rc1 in /opt/anaconda3/lib/python3.9/site-packages (from numba->mlforecast<0.10.1,>=0.10.0->autogluon.timeseries[all]==1.1.1->autogluon) (0.38.0)\n",
      "Requirement already satisfied: patsy>=0.5.2 in /opt/anaconda3/lib/python3.9/site-packages (from statsmodels>=0.13.2->statsforecast<1.5,>=1.4.0->autogluon.timeseries[all]==1.1.1->autogluon) (0.5.2)\n"
     ]
    },
    {
     "name": "stdout",
     "output_type": "stream",
     "text": [
      "Requirement already satisfied: tensorboard-data-server<0.8.0,>=0.7.0 in /opt/anaconda3/lib/python3.9/site-packages (from tensorboard<3,>=2.9->autogluon.multimodal==1.1.1->autogluon) (0.7.2)\n",
      "Requirement already satisfied: markdown>=2.6.8 in /opt/anaconda3/lib/python3.9/site-packages (from tensorboard<3,>=2.9->autogluon.multimodal==1.1.1->autogluon) (3.3.4)\n",
      "Requirement already satisfied: absl-py>=0.4 in /opt/anaconda3/lib/python3.9/site-packages (from tensorboard<3,>=2.9->autogluon.multimodal==1.1.1->autogluon) (1.2.0)\n",
      "Requirement already satisfied: werkzeug>=1.0.1 in /opt/anaconda3/lib/python3.9/site-packages (from tensorboard<3,>=2.9->autogluon.multimodal==1.1.1->autogluon) (2.2.2)\n",
      "Requirement already satisfied: blis<0.8.0,>=0.7.8 in /opt/anaconda3/lib/python3.9/site-packages (from thinc<8.3.0,>=8.2.2->spacy<4->fastai<2.8,>=2.3.1->autogluon.tabular[all]==1.1.1->autogluon) (0.7.11)\n",
      "Requirement already satisfied: confection<1.0.0,>=0.0.1 in /opt/anaconda3/lib/python3.9/site-packages (from thinc<8.3.0,>=8.2.2->spacy<4->fastai<2.8,>=2.3.1->autogluon.tabular[all]==1.1.1->autogluon) (0.1.5)\n",
      "Requirement already satisfied: safetensors in /opt/anaconda3/lib/python3.9/site-packages (from timm<0.10.0,>=0.9.5->autogluon.multimodal==1.1.1->autogluon) (0.4.1)\n",
      "Requirement already satisfied: tokenizers<0.19,>=0.14 in /opt/anaconda3/lib/python3.9/site-packages (from transformers[sentencepiece]<4.41.0,>=4.38.0->autogluon.multimodal==1.1.1->autogluon) (0.15.0)\n",
      "Requirement already satisfied: sentencepiece!=0.1.92,>=0.1.91 in /opt/anaconda3/lib/python3.9/site-packages (from transformers[sentencepiece]<4.41.0,>=4.38.0->autogluon.multimodal==1.1.1->autogluon) (0.2.0)\n",
      "Requirement already satisfied: shellingham>=1.3.0 in /opt/anaconda3/lib/python3.9/site-packages (from typer<1.0.0,>=0.3.0->spacy<4->fastai<2.8,>=2.3.1->autogluon.tabular[all]==1.1.1->autogluon) (1.5.4)\n",
      "Requirement already satisfied: pygments<3.0.0,>=2.6.0 in /opt/anaconda3/lib/python3.9/site-packages (from rich->openmim<0.4.0,>=0.3.7->autogluon.multimodal==1.1.1->autogluon) (2.11.2)\n",
      "Requirement already satisfied: commonmark<0.10.0,>=0.9.0 in /opt/anaconda3/lib/python3.9/site-packages (from rich->openmim<0.4.0,>=0.3.7->autogluon.multimodal==1.1.1->autogluon) (0.9.1)\n",
      "Requirement already satisfied: distlib<1,>=0.3.7 in /opt/anaconda3/lib/python3.9/site-packages (from virtualenv!=20.21.1,>=20.0.24->ray[default]<2.11,>=2.10.0->autogluon.core[all]==1.1.1->autogluon) (0.3.8)\n",
      "Requirement already satisfied: platformdirs<5,>=3.9.1 in /opt/anaconda3/lib/python3.9/site-packages (from virtualenv!=20.21.1,>=20.0.24->ray[default]<2.11,>=2.10.0->autogluon.core[all]==1.1.1->autogluon) (4.2.1)\n",
      "Requirement already satisfied: cloudpathlib<1.0.0,>=0.7.0 in /opt/anaconda3/lib/python3.9/site-packages (from weasel<0.5.0,>=0.1.0->spacy<4->fastai<2.8,>=2.3.1->autogluon.tabular[all]==1.1.1->autogluon) (0.18.1)\n",
      "Requirement already satisfied: wrapt in /opt/anaconda3/lib/python3.9/site-packages (from smart-open->ray[default]<2.11,>=2.10.0->autogluon.core[all]==1.1.1->autogluon) (1.12.1)\n",
      "Requirement already satisfied: soupsieve>1.2 in /opt/anaconda3/lib/python3.9/site-packages (from beautifulsoup4->gdown>=4.0.0->nlpaug<1.2.0,>=1.1.10->autogluon.multimodal==1.1.1->autogluon) (2.3.1)\n",
      "Requirement already satisfied: humanfriendly>=9.1 in /opt/anaconda3/lib/python3.9/site-packages (from coloredlogs->optimum[onnxruntime]<1.19,>=1.17->autogluon.timeseries[all]==1.1.1->autogluon) (10.0)\n",
      "Requirement already satisfied: kiwisolver>=1.0.1 in /opt/anaconda3/lib/python3.9/site-packages (from matplotlib->autogluon.core[all]==1.1.1->autogluon) (1.3.2)\n",
      "Requirement already satisfied: pyparsing>=2.2.1 in /opt/anaconda3/lib/python3.9/site-packages (from matplotlib->autogluon.core[all]==1.1.1->autogluon) (3.0.4)\n",
      "Requirement already satisfied: fonttools>=4.22.0 in /opt/anaconda3/lib/python3.9/site-packages (from matplotlib->autogluon.core[all]==1.1.1->autogluon) (4.25.0)\n",
      "Requirement already satisfied: cycler>=0.10 in /opt/anaconda3/lib/python3.9/site-packages (from matplotlib->autogluon.core[all]==1.1.1->autogluon) (0.11.0)\n",
      "Requirement already satisfied: ordered-set in /opt/anaconda3/lib/python3.9/site-packages (from model-index->openmim<0.4.0,>=0.3.7->autogluon.multimodal==1.1.1->autogluon) (4.1.0)\n",
      "Requirement already satisfied: google-api-core<3.0.0,>=1.0.0 in /opt/anaconda3/lib/python3.9/site-packages (from opencensus->ray[default]<2.11,>=2.10.0->autogluon.core[all]==1.1.1->autogluon) (2.12.0)\n",
      "Requirement already satisfied: opencensus-context>=0.1.3 in /opt/anaconda3/lib/python3.9/site-packages (from opencensus->ray[default]<2.11,>=2.10.0->autogluon.core[all]==1.1.1->autogluon) (0.1.3)\n",
      "Requirement already satisfied: googleapis-common-protos<2.0.dev0,>=1.56.2 in /opt/anaconda3/lib/python3.9/site-packages (from google-api-core<3.0.0,>=1.0.0->opencensus->ray[default]<2.11,>=2.10.0->autogluon.core[all]==1.1.1->autogluon) (1.59.0)\n",
      "Requirement already satisfied: google-auth<3.0.dev0,>=2.14.1 in /opt/anaconda3/lib/python3.9/site-packages (from google-api-core<3.0.0,>=1.0.0->opencensus->ray[default]<2.11,>=2.10.0->autogluon.core[all]==1.1.1->autogluon) (2.23.4)\n",
      "Requirement already satisfied: pyasn1-modules>=0.2.1 in /opt/anaconda3/lib/python3.9/site-packages (from google-auth<3.0.dev0,>=2.14.1->google-api-core<3.0.0,>=1.0.0->opencensus->ray[default]<2.11,>=2.10.0->autogluon.core[all]==1.1.1->autogluon) (0.2.8)\n",
      "Requirement already satisfied: rsa<5,>=3.1.4 in /opt/anaconda3/lib/python3.9/site-packages (from google-auth<3.0.dev0,>=2.14.1->google-api-core<3.0.0,>=1.0.0->opencensus->ray[default]<2.11,>=2.10.0->autogluon.core[all]==1.1.1->autogluon) (4.7.2)\n",
      "Requirement already satisfied: cachetools<6.0,>=2.0.0 in /opt/anaconda3/lib/python3.9/site-packages (from google-auth<3.0.dev0,>=2.14.1->google-api-core<3.0.0,>=1.0.0->opencensus->ray[default]<2.11,>=2.10.0->autogluon.core[all]==1.1.1->autogluon) (4.2.2)\n",
      "Requirement already satisfied: pyasn1<0.5.0,>=0.4.6 in /opt/anaconda3/lib/python3.9/site-packages (from pyasn1-modules>=0.2.1->google-auth<3.0.dev0,>=2.14.1->google-api-core<3.0.0,>=1.0.0->opencensus->ray[default]<2.11,>=2.10.0->autogluon.core[all]==1.1.1->autogluon) (0.4.8)\n",
      "Requirement already satisfied: openxlab in /opt/anaconda3/lib/python3.9/site-packages (from opendatalab->openmim<0.4.0,>=0.3.7->autogluon.multimodal==1.1.1->autogluon) (0.0.11)\n",
      "Requirement already satisfied: pycryptodome in /opt/anaconda3/lib/python3.9/site-packages (from opendatalab->openmim<0.4.0,>=0.3.7->autogluon.multimodal==1.1.1->autogluon) (3.20.0)\n",
      "Requirement already satisfied: tenacity>=6.2.0 in /opt/anaconda3/lib/python3.9/site-packages (from plotly->catboost<1.2,>=1.1->autogluon.tabular[all]==1.1.1->autogluon) (8.1.0)\n",
      "Requirement already satisfied: PySocks!=1.5.7,>=1.5.6 in /opt/anaconda3/lib/python3.9/site-packages (from requests->autogluon.core[all]==1.1.1->autogluon) (1.7.1)\n",
      "Requirement already satisfied: mpmath>=0.19 in /opt/anaconda3/lib/python3.9/site-packages (from sympy->optimum[onnxruntime]<1.19,>=1.17->autogluon.timeseries[all]==1.1.1->autogluon) (1.2.1)\n"
     ]
    }
   ],
   "source": [
    "!pip install autogluon"
   ]
  },
  {
   "cell_type": "code",
   "execution_count": 2,
   "id": "0764903e-5070-4db9-99a4-9b9e34de992b",
   "metadata": {},
   "outputs": [],
   "source": [
    "import pandas as pd\n",
    "from sklearn.model_selection import train_test_split\n",
    "from autogluon.features.generators import AutoMLPipelineFeatureGenerator\n",
    "from sklearn.preprocessing import RobustScaler\n",
    "from sklearn.linear_model import LogisticRegression\n",
    "from sklearn.metrics import classification_report\n",
    "import joblib\n"
   ]
  },
  {
   "cell_type": "markdown",
   "id": "15b7484c-9baa-4950-a721-b789c4bd2c4c",
   "metadata": {
    "tags": []
   },
   "source": [
    "# Data Pre-processing"
   ]
  },
  {
   "cell_type": "code",
   "execution_count": 3,
   "id": "5722f843",
   "metadata": {},
   "outputs": [],
   "source": [
    "def preprocess(data):\n",
    "    data = data.dropna()\n",
    "    data = data.drop(columns=['Unnamed: 0','id'])\n",
    "    X = data.drop(columns=['satisfaction'])\n",
    "    y = data['satisfaction']\n",
    "    y = [1 if labels=='satisfied' else 0 for labels in data['satisfaction']]\n",
    "    X_train, X_val, y_train, y_val = train_test_split(X, y, random_state=42, train_size = .80)\n",
    "    return X_train, X_val, y_train, y_val\n"
   ]
  },
  {
   "cell_type": "markdown",
   "id": "46243dc4-033c-49bb-8ce3-a9aa6608d2eb",
   "metadata": {
    "tags": []
   },
   "source": [
    "# Feature Transformation"
   ]
  },
  {
   "cell_type": "code",
   "execution_count": 4,
   "id": "302cc6c8",
   "metadata": {},
   "outputs": [],
   "source": [
    "def transformation(X_train, X_val, y_train, y_val):\n",
    "    auto_ml_pipeline_feature_generator = AutoMLPipelineFeatureGenerator()\n",
    "    auto_ml_pipeline_feature_generator.fit(X=X_train)\n",
    "    X_train_transformed = auto_ml_pipeline_feature_generator.transform(X=X_train)\n",
    "    #Scaling the data\n",
    "    scaler = RobustScaler()\n",
    "    X_train_normalized = scaler.fit_transform(X_train_transformed)\n",
    "    return X_train_normalized, y_train, auto_ml_pipeline_feature_generator, scaler\n"
   ]
  },
  {
   "cell_type": "markdown",
   "id": "895dc9ee-2a91-459f-a924-d7cd65638134",
   "metadata": {
    "tags": []
   },
   "source": [
    "# Logistic Regression"
   ]
  },
  {
   "cell_type": "code",
   "execution_count": 5,
   "id": "57855f8a-d03b-4e3f-b310-dcdcd86d73c3",
   "metadata": {},
   "outputs": [],
   "source": [
    "def train_model(X_train_normalized,y_train, y_val, feature_gen, scaler):\n",
    "    lr_model = LogisticRegression()\n",
    "    lr_model.fit(X_train_normalized, y_train) \n",
    "    # Printing the classification report\n",
    "    print(f\"The training classification report is {classification_report(lr_model.predict(X_train_normalized), y_train)}\")\n",
    "    X_val_transformed = feature_gen.transform(X=X_val)\n",
    "    X_val_norm = scaler.transform(X_val_transformed)\n",
    "    print(f\"The test classification report is {print(classification_report(lr_model.predict(X_val_norm), y_val))}\")\n",
    "    return lr_model"
   ]
  },
  {
   "cell_type": "markdown",
   "id": "2f0ff889",
   "metadata": {},
   "source": [
    "# SAVE MODEL\n"
   ]
  },
  {
   "cell_type": "code",
   "execution_count": 6,
   "id": "2808337d",
   "metadata": {},
   "outputs": [],
   "source": [
    "def save_model(model):\n",
    "    model_name = \"scikit_class_model_v2.joblib\"\n",
    "    joblib.dump(model, r\"../models/\"+model_name)\n",
    "    print(f\"Successfully saved {model_name} to ../models/{model_name}\")"
   ]
  },
  {
   "cell_type": "markdown",
   "id": "7eab15a0-fc01-44f9-ad2e-bf8164c34c53",
   "metadata": {
    "jp-MarkdownHeadingCollapsed": true
   },
   "source": [
    "# Chaining it all together"
   ]
  },
  {
   "cell_type": "code",
   "execution_count": 7,
   "id": "88b4551f-57dc-4c53-9221-a6ba90b5aafc",
   "metadata": {},
   "outputs": [
    {
     "name": "stderr",
     "output_type": "stream",
     "text": [
      "\tWarning: Data size prior to feature transformation consumes 8.0% of available memory. Consider increasing memory or subsampling the data to avoid instability.\n"
     ]
    },
    {
     "name": "stdout",
     "output_type": "stream",
     "text": [
      "The training classification report is               precision    recall  f1-score   support\n",
      "\n",
      "           0       0.91      0.88      0.89     48488\n",
      "           1       0.84      0.87      0.85     34387\n",
      "\n",
      "    accuracy                           0.88     82875\n",
      "   macro avg       0.87      0.88      0.87     82875\n",
      "weighted avg       0.88      0.88      0.88     82875\n",
      "\n",
      "              precision    recall  f1-score   support\n",
      "\n",
      "           0       0.91      0.87      0.89     12107\n",
      "           1       0.83      0.87      0.85      8612\n",
      "\n",
      "    accuracy                           0.87     20719\n",
      "   macro avg       0.87      0.87      0.87     20719\n",
      "weighted avg       0.88      0.87      0.87     20719\n",
      "\n",
      "The test classification report is None\n",
      "Successfully saved scikit_class_model_v2.joblib to ../models/scikit_class_model_v2.joblib\n"
     ]
    }
   ],
   "source": [
    "data = pd.read_csv(r'../data/train.csv')\n",
    "X_train, X_val, y_train, y_val = preprocess(data)\n",
    "X_train_normalized, y_train, feature_gen, scaler = transformation(X_train, X_val, y_train, y_val)\n",
    "model = train_model(X_train_normalized,y_train, y_val, feature_gen, scaler)\n",
    "save_model(model)\n"
   ]
  }
 ],
 "metadata": {
  "kernelspec": {
   "display_name": "Python 3 (ipykernel)",
   "language": "python",
   "name": "python3"
  },
  "language_info": {
   "codemirror_mode": {
    "name": "ipython",
    "version": 3
   },
   "file_extension": ".py",
   "mimetype": "text/x-python",
   "name": "python",
   "nbconvert_exporter": "python",
   "pygments_lexer": "ipython3",
   "version": "3.9.12"
  }
 },
 "nbformat": 4,
 "nbformat_minor": 5
}
